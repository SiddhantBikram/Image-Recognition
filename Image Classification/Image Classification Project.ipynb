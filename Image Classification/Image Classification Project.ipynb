{
 "cells": [
  {
   "cell_type": "code",
   "execution_count": 150,
   "id": "0058164f",
   "metadata": {},
   "outputs": [],
   "source": [
    "#Importing necessary arrays\n",
    "import tensorflow as tf\n",
    "from tensorflow.keras import datasets, layers, models\n",
    "import matplotlib.pyplot as plt\n",
    "import numpy as np\n",
    "from tensorflow import keras"
   ]
  },
  {
   "cell_type": "code",
   "execution_count": 151,
   "id": "5d7cb901",
   "metadata": {},
   "outputs": [],
   "source": [
    "#Loading CIFAR-10 dataset\n",
    "(X_train, y_train),(X_test, y_test) = datasets.cifar10.load_data()"
   ]
  },
  {
   "cell_type": "code",
   "execution_count": 152,
   "id": "04f1c1fc",
   "metadata": {},
   "outputs": [
    {
     "data": {
      "text/plain": [
       "(10000, 32, 32, 3)"
      ]
     },
     "execution_count": 152,
     "metadata": {},
     "output_type": "execute_result"
    }
   ],
   "source": [
    "X_test.shape"
   ]
  },
  {
   "cell_type": "code",
   "execution_count": 153,
   "id": "ccb66a62",
   "metadata": {},
   "outputs": [
    {
     "data": {
      "text/plain": [
       "(50000, 32, 32, 3)"
      ]
     },
     "execution_count": 153,
     "metadata": {},
     "output_type": "execute_result"
    }
   ],
   "source": [
    "X_train.shape"
   ]
  },
  {
   "cell_type": "code",
   "execution_count": 154,
   "id": "5df636ed",
   "metadata": {
    "scrolled": false
   },
   "outputs": [
    {
     "data": {
      "text/plain": [
       "<matplotlib.image.AxesImage at 0x1fc012b91f0>"
      ]
     },
     "execution_count": 154,
     "metadata": {},
     "output_type": "execute_result"
    },
    {
     "data": {
      "image/png": "[encoded data removed]",
      "text/plain": [
       "<Figure size 432x288 with 1 Axes>"
      ]
     },
     "metadata": {
      "needs_background": "light"
     },
     "output_type": "display_data"
    }
   ],
   "source": [
    "#32*32 image\n",
    "plt.imshow(X_train[1000])"
   ]
  },
  {
   "cell_type": "code",
   "execution_count": 155,
   "id": "0ddd4fbe",
   "metadata": {
    "scrolled": false
   },
   "outputs": [
    {
     "data": {
      "text/plain": [
       "array([[[ 59,  62,  63],\n",
       "        [ 43,  46,  45],\n",
       "        [ 50,  48,  43],\n",
       "        ...,\n",
       "        [158, 132, 108],\n",
       "        [152, 125, 102],\n",
       "        [148, 124, 103]],\n",
       "\n",
       "       [[ 16,  20,  20],\n",
       "        [  0,   0,   0],\n",
       "        [ 18,   8,   0],\n",
       "        ...,\n",
       "        [123,  88,  55],\n",
       "        [119,  83,  50],\n",
       "        [122,  87,  57]],\n",
       "\n",
       "       [[ 25,  24,  21],\n",
       "        [ 16,   7,   0],\n",
       "        [ 49,  27,   8],\n",
       "        ...,\n",
       "        [118,  84,  50],\n",
       "        [120,  84,  50],\n",
       "        [109,  73,  42]],\n",
       "\n",
       "       ...,\n",
       "\n",
       "       [[208, 170,  96],\n",
       "        [201, 153,  34],\n",
       "        [198, 161,  26],\n",
       "        ...,\n",
       "        [160, 133,  70],\n",
       "        [ 56,  31,   7],\n",
       "        [ 53,  34,  20]],\n",
       "\n",
       "       [[180, 139,  96],\n",
       "        [173, 123,  42],\n",
       "        [186, 144,  30],\n",
       "        ...,\n",
       "        [184, 148,  94],\n",
       "        [ 97,  62,  34],\n",
       "        [ 83,  53,  34]],\n",
       "\n",
       "       [[177, 144, 116],\n",
       "        [168, 129,  94],\n",
       "        [179, 142,  87],\n",
       "        ...,\n",
       "        [216, 184, 140],\n",
       "        [151, 118,  84],\n",
       "        [123,  92,  72]]], dtype=uint8)"
      ]
     },
     "execution_count": 155,
     "metadata": {},
     "output_type": "execute_result"
    }
   ],
   "source": [
    "#32*32*3 3D array\n",
    "X_train[0]"
   ]
  },
  {
   "cell_type": "code",
   "execution_count": 156,
   "id": "d59e89d7",
   "metadata": {},
   "outputs": [
    {
     "data": {
      "text/plain": [
       "array([[6],\n",
       "       [9],\n",
       "       [9],\n",
       "       [4],\n",
       "       [1]], dtype=uint8)"
      ]
     },
     "execution_count": 156,
     "metadata": {},
     "output_type": "execute_result"
    }
   ],
   "source": [
    "y_train[:5]"
   ]
  },
  {
   "cell_type": "code",
   "execution_count": 157,
   "id": "3821d4b5",
   "metadata": {},
   "outputs": [
    {
     "data": {
      "text/plain": [
       "array([6, 9, 9, 4, 1], dtype=uint8)"
      ]
     },
     "execution_count": 157,
     "metadata": {},
     "output_type": "execute_result"
    }
   ],
   "source": [
    "#Reshaping y_train from a 2D array into a 1D array\n",
    "#-1 for ALL 10,000 rows, blank for flattening arrays, 2D to 1D, 1D to number\n",
    "y_train = y_train.reshape(-1,)\n",
    "y_train[:5]"
   ]
  },
  {
   "cell_type": "code",
   "execution_count": 158,
   "id": "9dc9af36",
   "metadata": {},
   "outputs": [],
   "source": [
    "#List of classes used in this project\n",
    "classlist = [\"Airplane\", \"Automobile\", \"Bird\", \"Cat\",\"Deer\",\"Dog\",\"Frog\",\"Horse\", \"Ship\", \"Truck\"]"
   ]
  },
  {
   "cell_type": "code",
   "execution_count": 159,
   "id": "ab156053",
   "metadata": {},
   "outputs": [],
   "source": [
    "#Plotter function to plot samples\n",
    "def plotter(X, y ,index):\n",
    "    plt.figure(figsize = (15,3))\n",
    "    plt.imshow(X[index])\n",
    "    plt.xlabel(classlist[y[index]])"
   ]
  },
  {
   "cell_type": "code",
   "execution_count": 160,
   "id": "4ba8b7c5",
   "metadata": {},
   "outputs": [
    {
     "data": {
      "image/png": "[encoded data removed]",
      "text/plain": [
       "<Figure size 1080x216 with 1 Axes>"
      ]
     },
     "metadata": {
      "needs_background": "light"
     },
     "output_type": "display_data"
    }
   ],
   "source": [
    "plotter(X_train, y_train, 10)"
   ]
  },
  {
   "cell_type": "code",
   "execution_count": 162,
   "id": "0288a609",
   "metadata": {},
   "outputs": [],
   "source": [
    "#Normalizing data\n",
    "#RGB values range from 0 to 255. Dividing by 255, we get a value from 0 to 1.\n",
    "X_train = X_train/255\n",
    "X_test = X_test/255"
   ]
  },
  {
   "cell_type": "code",
   "execution_count": 120,
   "id": "72597957",
   "metadata": {
    "scrolled": false
   },
   "outputs": [
    {
     "name": "stdout",
     "output_type": "stream",
     "text": [
      "Epoch 1/10\n",
      "1563/1563 [==============================] - 40s 26ms/step - loss: 1.8579 - accuracy: 0.3351\n",
      "Epoch 2/10\n",
      "1563/1563 [==============================] - 43s 28ms/step - loss: 1.6554 - accuracy: 0.4123\n",
      "Epoch 3/10\n",
      "1563/1563 [==============================] - 47s 30ms/step - loss: 1.5685 - accuracy: 0.4456\n",
      "Epoch 4/10\n",
      "1563/1563 [==============================] - 46s 29ms/step - loss: 1.5052 - accuracy: 0.4672\n",
      "Epoch 5/10\n",
      "1563/1563 [==============================] - 44s 28ms/step - loss: 1.4575 - accuracy: 0.4855\n",
      "Epoch 6/10\n",
      "1563/1563 [==============================] - 47s 30ms/step - loss: 1.4129 - accuracy: 0.5040\n",
      "Epoch 7/10\n",
      "1563/1563 [==============================] - 45s 29ms/step - loss: 1.3731 - accuracy: 0.5161\n",
      "Epoch 8/10\n",
      "1563/1563 [==============================] - 43s 27ms/step - loss: 1.3370 - accuracy: 0.5294\n",
      "Epoch 9/10\n",
      "1563/1563 [==============================] - 44s 28ms/step - loss: 1.3054 - accuracy: 0.5379\n",
      "Epoch 10/10\n",
      "1563/1563 [==============================] - 42s 27ms/step - loss: 1.2756 - accuracy: 0.5516\n"
     ]
    },
    {
     "data": {
      "text/plain": [
       "<tensorflow.python.keras.callbacks.History at 0x1fc00de8ca0>"
      ]
     },
     "execution_count": 120,
     "metadata": {},
     "output_type": "execute_result"
    }
   ],
   "source": [
    "#Building ANN\n",
    "#Input layer is a flatten layer that takes input in the shape of 32*32*3\n",
    "#Hidden layer one has 3000 neurons, uses ReLU as activation function\n",
    "#Hidden layer two has 1000 neurons, uses ReLU as activation function\n",
    "#Output layer has 10 categories, uses sigmoid as activation function\n",
    "#Training ANN for 5 epochs\n",
    "ann_model = keras.Sequential([\n",
    "        keras.layers.Flatten(input_shape=(32,32,3)),\n",
    "        keras.layers.Dense(3000, activation = 'relu'),\n",
    "        keras.layers.Dense(1000, activation = 'relu'),\n",
    "        keras.layers.Dense(10, activation = 'sigmoid')\n",
    "    ])\n",
    "\n",
    "ann_model.compile(optimizer='SGD',\n",
    "                    loss='sparse_categorical_crossentropy',\n",
    "                    metrics=['accuracy'])\n",
    "ann_model.fit(X_train, y_train, epochs = 10)"
   ]
  },
  {
   "cell_type": "code",
   "execution_count": 123,
   "id": "17b7a624",
   "metadata": {},
   "outputs": [
    {
     "name": "stdout",
     "output_type": "stream",
     "text": [
      "Epoch 1/10\n",
      "1563/1563 [==============================] - 20s 13ms/step - loss: 2.0254 - accuracy: 0.2627\n",
      "Epoch 2/10\n",
      "1563/1563 [==============================] - 18s 12ms/step - loss: 1.6154 - accuracy: 0.4248\n",
      "Epoch 3/10\n",
      "1563/1563 [==============================] - 18s 12ms/step - loss: 1.4273 - accuracy: 0.4920\n",
      "Epoch 4/10\n",
      "1563/1563 [==============================] - 20s 13ms/step - loss: 1.3295 - accuracy: 0.5287\n",
      "Epoch 5/10\n",
      "1563/1563 [==============================] - 21s 13ms/step - loss: 1.2579 - accuracy: 0.5543\n",
      "Epoch 6/10\n",
      "1563/1563 [==============================] - 20s 12ms/step - loss: 1.1952 - accuracy: 0.5792\n",
      "Epoch 7/10\n",
      "1563/1563 [==============================] - 20s 13ms/step - loss: 1.1356 - accuracy: 0.6023\n",
      "Epoch 8/10\n",
      "1563/1563 [==============================] - 22s 14ms/step - loss: 1.0805 - accuracy: 0.6207\n",
      "Epoch 9/10\n",
      "1563/1563 [==============================] - 22s 14ms/step - loss: 1.0305 - accuracy: 0.6391\n",
      "Epoch 10/10\n",
      "1563/1563 [==============================] - 18s 12ms/step - loss: 0.9840 - accuracy: 0.6558\n"
     ]
    },
    {
     "data": {
      "text/plain": [
       "<tensorflow.python.keras.callbacks.History at 0x1fc00c3fac0>"
      ]
     },
     "execution_count": 123,
     "metadata": {},
     "output_type": "execute_result"
    }
   ],
   "source": [
    "#Building CNN similar to ANN\n",
    "\n",
    "cnn_model = keras.Sequential([\n",
    "        \n",
    "        #CNN\n",
    "        keras.layers.Conv2D(filters=32, kernel_size=(3,3), activation='relu', input_shape=(32,32,3)),\n",
    "        layers.MaxPooling2D((2,2)),\n",
    "    \n",
    "        keras.layers.Conv2D(filters=64, kernel_size=(3,3), activation='relu'),\n",
    "        layers.MaxPooling2D((2,2)),\n",
    "    \n",
    "        #Dense\n",
    "        keras.layers.Flatten(),\n",
    "        keras.layers.Dense(64, activation = 'relu'),\n",
    "        keras.layers.Dense(10, activation = 'softmax')\n",
    "    ])\n",
    "\n",
    "cnn_model.compile(optimizer='SGD',\n",
    "                    loss='sparse_categorical_crossentropy',\n",
    "                    metrics=['accuracy'])\n",
    "cnn_model.fit(X_train, y_train, epochs = 10)"
   ]
  },
  {
   "cell_type": "code",
   "execution_count": 163,
   "id": "7353e22f",
   "metadata": {},
   "outputs": [
    {
     "data": {
      "text/plain": [
       "array([3, 8, 8, 0, 6], dtype=uint8)"
      ]
     },
     "execution_count": 163,
     "metadata": {},
     "output_type": "execute_result"
    }
   ],
   "source": [
    "#Reshaping y_test from 2D to 1D\n",
    "y_test = y_test.reshape(-1,)\n",
    "y_test[:5]"
   ]
  },
  {
   "cell_type": "code",
   "execution_count": 165,
   "id": "2c3a121d",
   "metadata": {},
   "outputs": [
    {
     "data": {
      "image/png": "[encoded data removed]",
      "text/plain": [
       "<Figure size 1080x216 with 1 Axes>"
      ]
     },
     "metadata": {
      "needs_background": "light"
     },
     "output_type": "display_data"
    }
   ],
   "source": [
    "plotter(X_test,y_test,1000)"
   ]
  },
  {
   "cell_type": "code",
   "execution_count": 166,
   "id": "68816d67",
   "metadata": {},
   "outputs": [
    {
     "name": "stdout",
     "output_type": "stream",
     "text": [
      "Classification Results for ANN\n",
      "               precision    recall  f1-score   support\n",
      "\n",
      "           0       0.54      0.67      0.60      1000\n",
      "           1       0.54      0.76      0.63      1000\n",
      "           2       0.43      0.35      0.38      1000\n",
      "           3       0.34      0.32      0.33      1000\n",
      "           4       0.61      0.21      0.31      1000\n",
      "           5       0.30      0.65      0.41      1000\n",
      "           6       0.51      0.64      0.57      1000\n",
      "           7       0.72      0.38      0.49      1000\n",
      "           8       0.75      0.56      0.64      1000\n",
      "           9       0.67      0.40      0.51      1000\n",
      "\n",
      "    accuracy                           0.49     10000\n",
      "   macro avg       0.54      0.49      0.49     10000\n",
      "weighted avg       0.54      0.49      0.49     10000\n",
      "\n",
      "Classification Results for CNN\n",
      "               precision    recall  f1-score   support\n",
      "\n",
      "           0       0.54      0.67      0.60      1000\n",
      "           1       0.54      0.76      0.63      1000\n",
      "           2       0.43      0.35      0.38      1000\n",
      "           3       0.34      0.32      0.33      1000\n",
      "           4       0.61      0.21      0.31      1000\n",
      "           5       0.30      0.65      0.41      1000\n",
      "           6       0.51      0.64      0.57      1000\n",
      "           7       0.72      0.38      0.49      1000\n",
      "           8       0.75      0.56      0.64      1000\n",
      "           9       0.67      0.40      0.51      1000\n",
      "\n",
      "    accuracy                           0.49     10000\n",
      "   macro avg       0.54      0.49      0.49     10000\n",
      "weighted avg       0.54      0.49      0.49     10000\n",
      "\n"
     ]
    }
   ],
   "source": [
    "#Comparing classification results\n",
    "from sklearn.metrics import confusion_matrix, classification_report\n",
    "import numpy as np\n",
    "y_pred = ann_model.predict(X_test)\n",
    "y_pred_classes = [np.argmax(element) for element in y_pred]\n",
    "\n",
    "print(\"Classification Results for ANN\\n\", classification_report(y_test, y_pred_classes))\n",
    "\n",
    "y_pred1 = cnn_model.predict(X_test)\n",
    "y_pred_classes1 = [np.argmax(element) for element in y_pred]\n",
    "\n",
    "print(\"Classification Results for CNN\\n\", classification_report(y_test, y_pred_classes))"
   ]
  },
  {
   "cell_type": "code",
   "execution_count": 168,
   "id": "bcf7b4e8",
   "metadata": {},
   "outputs": [
    {
     "name": "stdout",
     "output_type": "stream",
     "text": [
      "ANN :\n",
      "313/313 [==============================] - 3s 9ms/step - loss: 1.4170 - accuracy: 0.4929\n",
      "\n",
      "\n",
      "CNN :\n",
      "313/313 [==============================] - 3s 10ms/step - loss: 1.0466 - accuracy: 0.6354\n"
     ]
    },
    {
     "data": {
      "text/plain": [
       "[1.0466017723083496, 0.6353999972343445]"
      ]
     },
     "execution_count": 168,
     "metadata": {},
     "output_type": "execute_result"
    }
   ],
   "source": [
    "#Evaluating models \n",
    "\n",
    "print(\"ANN :\")\n",
    "ann_model.evaluate(X_test,y_test)\n",
    "\n",
    "print(\"\\n\")\n",
    "\n",
    "print(\"CNN :\")\n",
    "cnn_model.evaluate(X_test,y_test)"
   ]
  },
  {
   "cell_type": "code",
   "execution_count": null,
   "id": "754dfa7d",
   "metadata": {},
   "outputs": [],
   "source": []
  }
 ],
 "metadata": {
  "kernelspec": {
   "display_name": "Python 3",
   "language": "python",
   "name": "python3"
  },
  "language_info": {
   "codemirror_mode": {
    "name": "ipython",
    "version": 3
   },
   "file_extension": ".py",
   "mimetype": "text/x-python",
   "name": "python",
   "nbconvert_exporter": "python",
   "pygments_lexer": "ipython3",
   "version": "3.8.8"
  }
 },
 "nbformat": 4,
 "nbformat_minor": 5
}
